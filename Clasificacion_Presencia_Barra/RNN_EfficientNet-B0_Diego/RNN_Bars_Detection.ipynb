{
 "cells": [
  {
   "cell_type": "markdown",
   "metadata": {
    "id": "ok29N9_MyyiU"
   },
   "source": [
    "# Red Neuronal Convolucional - EfficientNet-B0 | 5.3 M Parametros"
   ]
  },
  {
   "cell_type": "markdown",
   "metadata": {
    "id": "VV8HrKLqzHQX"
   },
   "source": [
    "## Inputs"
   ]
  },
  {
   "cell_type": "markdown",
   "metadata": {
    "id": "BoQF2PgJzKK0"
   },
   "source": [
    "### Instalación de librerias"
   ]
  },
  {
   "cell_type": "code",
   "execution_count": null,
   "metadata": {},
   "outputs": [],
   "source": [
    "!pip install timm torchmetrics albumentations opencv-python astropy grad-cam\n"
   ]
  },
  {
   "cell_type": "markdown",
   "metadata": {
    "id": "yP1qOvSnzMj0"
   },
   "source": [
    "### Librerias"
   ]
  },
  {
   "cell_type": "code",
   "execution_count": null,
   "metadata": {},
   "outputs": [],
   "source": [
    "import os, math, random, json, glob\n",
    "import numpy as np\n",
    "import pandas as pd\n",
    "from pathlib import Path\n",
    "from PIL import Image\n",
    "import cv2\n",
    "import torch\n",
    "from torch import nn\n",
    "from torch.utils.data import Dataset, DataLoader\n",
    "from torch.nn import functional as F\n",
    "from torch.optim import AdamW\n",
    "from torch.optim.lr_scheduler import CosineAnnealingLR\n",
    "from sklearn.metrics import average_precision_score, f1_score\n",
    "from torchmetrics.classification import BinaryAUROC, BinaryCalibrationError\n",
    "import timm\n",
    "from astropy.io import fits\n",
    "import cv2, numpy as np, pandas as pd\n",
    "from torch.utils.data import Dataset\n",
    "from astropy.io import fits\n",
    "import albumentations as A\n",
    "from albumentations.pytorch import ToTensorV2\n",
    "from torch.utils.data import DataLoader\n",
    "from torch.optim import AdamW\n",
    "from torch.optim.lr_scheduler import CosineAnnealingLR\n",
    "from pytorch_grad_cam import GradCAM\n",
    "from pytorch_grad_cam.utils.model_targets import BinaryClassifierOutputTarget\n",
    "from pytorch_grad_cam.utils.image import show_cam_on_image\n",
    "import numpy as np\n",
    "import pandas as pd\n",
    "from sklearn.metrics import (\n",
    "    classification_report,\n",
    "    confusion_matrix,\n",
    "    average_precision_score,\n",
    "    roc_auc_score\n",
    ")\n",
    "from torch.utils.data import DataLoader\n",
    "import torch\n",
    "\n"
   ]
  },
  {
   "cell_type": "markdown",
   "metadata": {
    "id": "AozEnA9lzPiZ"
   },
   "source": [
    "### SEED y GPU"
   ]
  },
  {
   "cell_type": "code",
   "execution_count": null,
   "metadata": {},
   "outputs": [],
   "source": [
    "SEED = 42\n",
    "random.seed(SEED); np.random.seed(SEED); torch.manual_seed(SEED)\n",
    "device = torch.device(\"cuda\" if torch.cuda.is_available() else \"cpu\")"
   ]
  },
  {
   "cell_type": "markdown",
   "metadata": {
    "id": "akR1zCubzTnV"
   },
   "source": [
    "### Conexión con Google Drive"
   ]
  },
  {
   "cell_type": "code",
   "execution_count": null,
   "metadata": {},
   "outputs": [],
   "source": [
    "from google.colab import drive\n",
    "drive.mount('/content/drive')"
   ]
  },
  {
   "cell_type": "markdown",
   "metadata": {
    "id": "7UH1qY3fzZik"
   },
   "source": [
    "## Procesamiento de Imagenes"
   ]
  },
  {
   "cell_type": "markdown",
   "metadata": {
    "id": "7YvRbx3CzvSM"
   },
   "source": [
    "### Procesamiento y apilado de imágenes astronómicas"
   ]
  },
  {
   "cell_type": "markdown",
   "metadata": {
    "id": "fCNcwfx4z58A"
   },
   "source": [
    "**Descripción**\n",
    "\n",
    "El código proporciona dos funciones principales:\n",
    "- **read_band_image**: Lee imágenes astronómicas en formato FITS o PNG, normaliza los valores en el rango [0,1] y aplica un estirado asinh para mejorar el contraste de forma suave.\n",
    "- **stack_bands**: Toma varias bandas (por defecto `g, r, z`), las centra y recorta a un formato cuadrado, las redimensiona a un tamaño fijo y finalmente las apila en un tensor con la forma C×H×W.\n",
    "\n",
    "**Técnicas utilizadas**\n",
    "\n",
    "- **Normalización por percentiles** (1%–99.5%) para limitar el rango dinámico y eliminar valores extremos.\n",
    "- **Transformación asinh** con ganancia ≈10 para un contraste suave y balanceado entre regiones brillantes y débiles.\n",
    "- **Conversión a escala de grises** para imágenes en color.\n",
    "- **Centrado y padding a cuadrado** antes del escalado para evitar distorsiones geométricas.\n",
    "- **Redimensionamiento conservador** con interpolación `INTER_AREA` para mantener la calidad en la reducción de tamaño.\n",
    "- **Apilado de canales** con `np.stack` para generar un tensor multicanal adecuado para modelos de visión por computadora.\n",
    "\n",
    "**Justificación**\n",
    "\n",
    "- El **recorte por percentiles** evita que valores atípicos dominen la escala de intensidad.\n",
    "- El **estirado asinh** es una técnica común en astrofotografía para resaltar estructuras débiles sin saturar las regiones brillantes.\n",
    "- El **padding centrado** garantiza que la relación de aspecto se preserve antes del resize, evitando deformaciones.\n",
    "- La **interpolación adecuada** mantiene la fidelidad visual al reducir la resolución.\n",
    "- El **apilado en formato tensorial** prepara los datos para su uso en redes neuronales o pipelines de análisis de imágenes científicas."
   ]
  },
  {
   "cell_type": "code",
   "execution_count": null,
   "metadata": {},
   "outputs": [],
   "source": [
    "def read_band_image(path):\n",
    "    # Lee FITS o PNG y devuelve float32 en [0,1] con asinh stretch controlado\n",
    "    if path.endswith(\".fits\"):\n",
    "        data = fits.getdata(path).astype(np.float32)\n",
    "        data = np.nan_to_num(data, nan=0.0, posinf=0.0, neginf=0.0)\n",
    "    else:\n",
    "        data = cv2.imread(path, cv2.IMREAD_UNCHANGED).astype(np.float32)\n",
    "        if data.ndim==3: data = cv2.cvtColor(data, cv2.COLOR_BGR2GRAY)\n",
    "    # recorte de percentiles y asinh\n",
    "    lo, hi = np.percentile(data, [1, 99.5])\n",
    "    if hi<=lo: hi = lo+1e-6\n",
    "    data = np.clip((data - lo) / (hi - lo), 0, 1)\n",
    "    data = np.arcsinh(10*data) / np.arcsinh(10)  # contraste suave\n",
    "    return data\n",
    "\n",
    "def stack_bands(root, image_id, bands=(\"g\",\"r\",\"z\"), ext=\".fits\", size=256):\n",
    "    chans = []\n",
    "    for b in bands:\n",
    "        p = f\"{root}/{b}/{image_id}{ext}\"\n",
    "        if not os.path.exists(p):\n",
    "            p = f\"{root}/{b}/{image_id}.png\"\n",
    "        img = read_band_image(p)\n",
    "        # centra/pad a cuadrado y resize conservador\n",
    "        h,w = img.shape\n",
    "        m = max(h,w)\n",
    "        canvas = np.zeros((m,m), np.float32)\n",
    "        y0 = (m-h)//2; x0 = (m-w)//2\n",
    "        canvas[y0:y0+h, x0:x0+w] = img\n",
    "        img = cv2.resize(canvas, (size,size), interpolation=cv2.INTER_AREA)\n",
    "        chans.append(img)\n",
    "    x = np.stack(chans, axis=0)  #\n",
    "    return x\n"
   ]
  },
  {
   "cell_type": "markdown",
   "metadata": {
    "id": "dlM1Riki0l_q"
   },
   "source": [
    "### Dataset personalizado con imágenes astronómicas y Data Augmentation"
   ]
  },
  {
   "cell_type": "markdown",
   "metadata": {
    "id": "l0Q9A-_g0yWH"
   },
   "source": [
    "**Descripción**\n",
    "\n",
    "Este código define un conjunto de utilidades y una clase `BarsDatasetPaths` para construir un **dataset de imágenes astronómicas** a partir de rutas explícitas en un archivo CSV.  \n",
    "Incluye funciones auxiliares para:\n",
    "- Leer imágenes FITS/PNG en escala de grises.\n",
    "- Aplicar normalización de contraste mediante estirado asinh.\n",
    "- Centrar, acolchar y redimensionar las imágenes a un tamaño uniforme.\n",
    "- Apilar las bandas g, r, z en tensores.\n",
    "Además, integra **transformaciones de data augmentation** (rotaciones, traslaciones, ruido, etc.) usando la librería Albumentations, y devuelve tensores junto con las etiquetas.\n",
    "\n",
    "**Técnicas utilizadas**\n",
    "\n",
    "- **Lectura robusta de FITS y PNG** con saneamiento de valores (NaN/Inf → 0).\n",
    "- **Normalización por percentiles (1–99.5%)** para estabilizar el rango dinámico.\n",
    "- **Transformación asinh** para resaltar detalles débiles sin saturar zonas brillantes.\n",
    "- **Centrado y padding a cuadrado + resize** para homogenizar dimensiones de entrada.\n",
    "- **Apilado de canales** g/r/z en formato tensorial.\n",
    "- **Data augmentation con Albumentations**: rotaciones, traslaciones, desenfoque gaussiano, ruido gaussiano, y ajuste de brillo/contraste.\n",
    "- **Conversión a tensores PyTorch** con `ToTensorV2`.\n",
    "\n",
    "**Justificación**\n",
    "\n",
    "- La **lectura multi-formato (FITS/PNG)** garantiza compatibilidad con diferentes fuentes de datos astronómicos.\n",
    "- El **recorte por percentiles y estirado asinh** son técnicas estándar en astrofotografía para mejorar la visibilidad de estructuras astronómicas.\n",
    "- El **padding y resize** evitan deformaciones geométricas y permiten entrenar modelos con entradas de tamaño fijo.\n",
    "- El **apilado de bandas g/r/z** conserva la información multicanal relevante para análisis de galaxias y barras estelares.\n",
    "- El uso de **augmentaciones** introduce variaciones realistas en los datos de entrenamiento, mejorando la capacidad de generalización del modelo.\n",
    "- El diseño en forma de **Dataset de PyTorch** permite integrarse fácilmente en pipelines de entrenamiento con `DataLoader`."
   ]
  },
  {
   "cell_type": "code",
   "execution_count": null,
   "metadata": {},
   "outputs": [],
   "source": [
    "\n",
    "def _read_fits_first2d(path):\n",
    "    with fits.open(path, memmap=False) as hdul:\n",
    "        for h in hdul:\n",
    "            if h.data is not None and getattr(h.data, \"ndim\", 0)==2:\n",
    "                arr = h.data.astype(np.float32); break\n",
    "    return np.nan_to_num(arr, nan=0.0, posinf=0.0, neginf=0.0)\n",
    "\n",
    "def _read_any_gray(path):\n",
    "    p = str(path).lower()\n",
    "    if p.endswith(\".fits\") or p.endswith(\".fz\"):\n",
    "        return _read_fits_first2d(path)\n",
    "    img = cv2.imread(path, cv2.IMREAD_UNCHANGED)\n",
    "    if img is None: raise FileNotFoundError(path)\n",
    "    if img.ndim==3: img = cv2.cvtColor(img, cv2.COLOR_BGR2GRAY)\n",
    "    return img.astype(np.float32)\n",
    "\n",
    "def _stretch_asinh(x):\n",
    "    lo, hi = np.percentile(x, [1, 99.5])\n",
    "    x = np.clip((x-lo)/(hi-lo+1e-6), 0, 1)\n",
    "    return np.arcsinh(10*x)/np.arcsinh(10)\n",
    "\n",
    "def _pad_resize_square(img, size=256):\n",
    "    h,w = img.shape; m = max(h,w)\n",
    "    canvas = np.zeros((m,m), np.float32)\n",
    "    y0=(m-h)//2; x0=(m-w)//2\n",
    "    canvas[y0:y0+h, x0:x0+w] = img\n",
    "    return cv2.resize(canvas, (size,size), interpolation=cv2.INTER_AREA)\n",
    "\n",
    "def stack_from_row(row, size=256):\n",
    "    chans=[]\n",
    "    for b in [\"g\",\"r\",\"z\"]:\n",
    "        p = row[f\"path_{b}\"]\n",
    "        img = _read_any_gray(p)\n",
    "        img = _pad_resize_square(_stretch_asinh(img), size)\n",
    "        chans.append(img)\n",
    "    return np.stack(chans, axis=0)  # CxHxW\n",
    "\n",
    "def build_transforms(train=True):\n",
    "    if train:\n",
    "        return A.Compose([\n",
    "            A.Rotate(limit=180, border_mode=cv2.BORDER_REFLECT_101, p=1.0),\n",
    "            A.ShiftScaleRotate(shift_limit=0.05, scale_limit=0.0, rotate_limit=0, border_mode=cv2.BORDER_REFLECT_101, p=0.5),\n",
    "            A.GaussianBlur(blur_limit=(3,5), p=0.3),\n",
    "            A.GaussNoise(var_limit=(1e-5,5e-4), p=0.3),\n",
    "            A.RandomBrightnessContrast(0.05,0.05,p=0.3),\n",
    "            ToTensorV2()\n",
    "        ])\n",
    "    else:\n",
    "        return A.Compose([ToTensorV2()])\n",
    "\n",
    "class BarsDatasetPaths(Dataset):\n",
    "    def __init__(self, csv_path, size=256, train=True):\n",
    "        self.df = pd.read_csv(csv_path)\n",
    "        self.size = size\n",
    "        self.tfm = build_transforms(train)\n",
    "\n",
    "    def __len__(self):\n",
    "        return len(self.df)\n",
    "\n",
    "    def __getitem__(self, i):\n",
    "        r = self.df.iloc[i]\n",
    "        x = stack_from_row(r, size=self.size)\n",
    "        x = np.transpose(x, (1,2,0))\n",
    "        x = self.tfm(image=x)[\"image\"]\n",
    "        y_bin = torch.tensor(r.label_bin, dtype=torch.float32)\n",
    "        y_str = torch.tensor(r.Bars,      dtype=torch.float32)\n",
    "        return x, y_bin, y_str, r.image_id\n"
   ]
  },
  {
   "cell_type": "code",
   "execution_count": null,
   "metadata": {},
   "outputs": [],
   "source": [
    "ds = BarsDatasetPaths(\"/content/drive/MyDrive/Proyecto_Integrador/Deteccion/datasets/train_grz.csv\", size=256, train=True)\n",
    "x, yb, ys, _ = ds[0]\n",
    "print(x.shape)  # debe ser torch.Size([3, 256, 256])\n"
   ]
  },
  {
   "cell_type": "markdown",
   "metadata": {
    "id": "Jrd7YBta1KDg"
   },
   "source": [
    "## Red Neuronal"
   ]
  },
  {
   "cell_type": "markdown",
   "metadata": {
    "id": "-p5aosbF1eKc"
   },
   "source": [
    "BarNet en PyTorch con EfficientNet como backbone y dos cabezas de predicción (binaria y continua)"
   ]
  },
  {
   "cell_type": "markdown",
   "metadata": {
    "id": "kdE9mdkM1QLQ"
   },
   "source": [
    "**Descripción**\n",
    "\n",
    "La clase `BarNet` implementa un modelo de deep learning en PyTorch diseñado para analizar imágenes astronómicas multibanda.  \n",
    "Se basa en un **backbone EfficientNet** (de la librería `timm`) para la extracción de características y añade dos cabezas totalmente conectadas:  \n",
    "- `head_bin`: salida binaria (detección de presencia o ausencia de barras).  \n",
    "- `head_str`: salida continua (estimación de la fuerza/intensidad de la barra).  \n",
    "\n",
    "El método `forward` obtiene las características del backbone y las procesa en paralelo por ambas cabezas para producir predicciones complementarias.\n",
    "\n",
    "**Técnicas utilizadas**\n",
    "\n",
    "- **Transfer learning con EfficientNet**: uso de `timm.create_model` con pesos preentrenados y adaptación de la entrada a 3 canales.  \n",
    "- **Regularización** mediante `Dropout` y `DropPath` para reducir sobreajuste.  \n",
    "- **Red neuronal secuencial** para las cabezas de predicción, con capas lineales, activación `ReLU` y dropout intermedio.  \n",
    "- **Diseño multitarea**: dos salidas diferentes desde el mismo espacio de características (`logit` binario y `strength` continuo).  \n",
    "\n",
    "**Justificación**\n",
    "\n",
    "- El uso de **EfficientNet como backbone** aprovecha un modelo eficiente y potente para extraer representaciones visuales profundas de las imágenes astronómicas.  \n",
    "- La **cabeza binaria** permite entrenar el modelo para una clasificación sencilla (¿existe o no una barra galáctica?).  \n",
    "- La **cabeza continua** añade información más rica, cuantificando la intensidad de la barra, lo cual es útil para análisis más finos en astrofísica.  \n",
    "- La **regularización con Dropout** y el uso de pesos preentrenados mejoran la generalización, evitando sobreajuste y acelerando la convergencia.  \n",
    "- El **diseño multitarea** en un solo modelo es más eficiente y permite compartir representaciones entre tareas relacionadas.  \n"
   ]
  },
  {
   "cell_type": "code",
   "execution_count": null,
   "metadata": {},
   "outputs": [],
   "source": [
    "class BarNet(nn.Module):\n",
    "    def __init__(self, backbone=\"tf_efficientnet_b0_ns\", in_chans=3, drop=0.2):\n",
    "        super().__init__()\n",
    "        self.backbone = timm.create_model(backbone, pretrained=True, in_chans=in_chans, drop_rate=drop, drop_path_rate=0.1, num_classes=0, global_pool=\"avg\")\n",
    "        emb = self.backbone.num_features\n",
    "        self.head_bin = nn.Sequential(nn.Linear(emb, 256), nn.ReLU(), nn.Dropout(0.2), nn.Linear(256,1))\n",
    "        self.head_str = nn.Sequential(nn.Linear(emb, 256), nn.ReLU(), nn.Dropout(0.2), nn.Linear(256,1))\n",
    "    def forward(self, x):\n",
    "        feat = self.backbone(x)\n",
    "        logit = self.head_bin(feat).squeeze(1)\n",
    "        strength = self.head_str(feat).squeeze(1)\n",
    "        return logit, strength\n"
   ]
  },
  {
   "cell_type": "markdown",
   "metadata": {
    "id": "UZ9d-gxZ1kaD"
   },
   "source": [
    "### Pérdidas, Métricas y ciclos de entrenamiento/validación"
   ]
  },
  {
   "cell_type": "markdown",
   "metadata": {
    "id": "k4DLqgvN1rRX"
   },
   "source": [
    "**Descripción**\n",
    "\n",
    "Este bloque de código implementa:\n",
    "- **`losses_and_metrics`**: calcula la función de pérdida combinada (clasificación binaria + regresión de fuerza) y métricas rápidas de evaluación por batch.\n",
    "- **`train_one_epoch`**: ejecuta un ciclo de entrenamiento para una época, incluyendo cálculo de pérdidas, retropropagación, clipping de gradientes y optimización.\n",
    "- **`validate`**: evalúa el modelo sin gradientes sobre un conjunto de validación, acumulando predicciones para calcular métricas globales.\n",
    "\n",
    "**Técnicas utilizadas**\n",
    "\n",
    "- **Binary Cross-Entropy (BCE)** con logits para la tarea de clasificación binaria (detección de barras).\n",
    "- **Huber Loss** aplicada a la salida de fuerza (tras sigmoid) para manejar regresión robusta en el rango [0,1].\n",
    "- **Combinación ponderada de pérdidas**: `loss = BCE + 0.5*Huber`.\n",
    "- **Métricas de clasificación**: AUPRC (área bajo la curva de precisión-recall) y F1-score con umbral 0.5.\n",
    "- **Métrica de regresión**: error absoluto medio (MAE) para la fuerza de la barra.\n",
    "- **Entrenamiento supervisado estándar** en PyTorch: forward → loss → backward → optimización.\n",
    "- **Regularización mediante gradient clipping** para evitar explosión de gradientes.\n",
    "- **Validación sin gradientes** (`@torch.no_grad()`) para reducir memoria y acelerar inferencia.\n",
    "\n",
    "**Justificación**\n",
    "\n",
    "- La combinación de **BCE** y **Huber** refleja el enfoque multitarea del modelo: detección (binaria) y cuantificación (continua).\n",
    "- El **Huber Loss** es más robusto frente a outliers que el MSE, lo que resulta adecuado en datos astronómicos con valores extremos.\n",
    "- El cálculo de **AUPRC** es crítico en datasets desbalanceados, mientras que el **F1-score** aporta una métrica intuitiva en clasificación.\n",
    "- El **MAE** ofrece una medida interpretable de error medio en la estimación de fuerza.\n",
    "- El **clipping de gradientes** estabiliza el entrenamiento de redes profundas evitando actualizaciones inestables.\n",
    "- La separación de funciones (`train_one_epoch` vs `validate`) promueve código limpio, modular y fácil de mantener en pipelines de entrenamiento.\n"
   ]
  },
  {
   "cell_type": "code",
   "execution_count": null,
   "metadata": {},
   "outputs": [],
   "source": [
    "def losses_and_metrics(logit, strength_pred, y_bin, y_str):\n",
    "    bce = F.binary_cross_entropy_with_logits(logit, y_bin)\n",
    "    huber = F.huber_loss(torch.sigmoid(strength_pred), y_str)\n",
    "    loss = bce + 0.5*huber\n",
    "    prob = torch.sigmoid(logit).detach().cpu().numpy()\n",
    "    yb = y_bin.detach().cpu().numpy()\n",
    "    auprc = average_precision_score(yb, prob) if (yb.min()!=yb.max()) else np.nan\n",
    "    f1 = f1_score((prob>=0.5).astype(int), yb.astype(int)) if (yb.min()!=yb.max()) else np.nan\n",
    "    mae = np.mean(np.abs(torch.sigmoid(strength_pred).detach().cpu().numpy() - y_str.detach().cpu().numpy()))\n",
    "    return loss, {\"auprc\":auprc, \"f1@0.5\":f1, \"mae_str\":mae}\n",
    "\n",
    "def train_one_epoch(model, loader, opt):\n",
    "    model.train()\n",
    "    logs=[]\n",
    "    for x, yb, ys, _ in loader:\n",
    "        x, yb, ys = x.to(device), yb.to(device), ys.to(device)\n",
    "        opt.zero_grad()\n",
    "        logit, sp = model(x)\n",
    "        loss, _ = losses_and_metrics(logit, sp, yb, ys)\n",
    "        loss.backward()\n",
    "        nn.utils.clip_grad_norm_(model.parameters(), 2.0)\n",
    "        opt.step()\n",
    "        logs.append(loss.item())\n",
    "    return float(np.mean(logs))\n",
    "\n",
    "@torch.no_grad()\n",
    "def validate(model, loader):\n",
    "    model.eval()\n",
    "    probs=[]; gts=[]; preds_str=[]; gts_str=[]\n",
    "    for x, yb, ys, _ in loader:\n",
    "        x = x.to(device)\n",
    "        logit, sp = model(x)\n",
    "        probs.append(torch.sigmoid(logit).cpu().numpy())\n",
    "        preds_str.append(torch.sigmoid(sp).cpu().numpy())\n",
    "        gts.append(yb.numpy()); gts_str.append(ys.numpy())\n",
    "    prob = np.concatenate(probs); yb = np.concatenate(gts).astype(np.float32)\n",
    "    sp = np.concatenate(preds_str); ys = np.concatenate(gts_str).astype(np.float32)\n",
    "    auprc = average_precision_score(yb, prob) if (yb.min()!=yb.max()) else float(\"nan\")\n",
    "    f1 = f1_score((prob>=0.5).astype(int), yb.astype(int)) if (yb.min()!=yb.max()) else float(\"nan\")\n",
    "    mae = float(np.mean(np.abs(sp - ys)))\n",
    "    return {\"val_auprc\":auprc, \"val_f1@0.5\":f1, \"val_mae_str\":mae}\n"
   ]
  },
  {
   "cell_type": "markdown",
   "metadata": {
    "id": "y49YPzk-2Atr"
   },
   "source": [
    "### Función de Entrenamiento"
   ]
  },
  {
   "cell_type": "markdown",
   "metadata": {
    "id": "IW5LAx_H2DQn"
   },
   "source": [
    "**Descripción**\n",
    "\n",
    "La función `fit_paths` implementa el ciclo de entrenamiento y validación para el modelo **BarNet** a partir de rutas CSV con datasets de entrenamiento y validación.  \n",
    "Su flujo principal incluye:\n",
    "1. Construcción de datasets (`BarsDatasetPaths`) y `DataLoader` para batching eficiente.\n",
    "2. Creación del modelo `BarNet` con un backbone configurable.\n",
    "3. Configuración del optimizador (`AdamW`) y scheduler de tasa de aprendizaje (`CosineAnnealingLR`).\n",
    "4. Ejecución de múltiples épocas de entrenamiento con:\n",
    "   - Forward y backward pass.\n",
    "   - Cálculo de pérdidas y métricas.\n",
    "   - Guardado de checkpoints (`last.pt` y `best.pt`).\n",
    "   - Estrategia de **early stopping** basada en métricas de validación.\n",
    "5. Retorno de la ruta al mejor modelo guardado.\n",
    "\n",
    "**Técnicas utilizadas**\n",
    "\n",
    "- **PyTorch DataLoader** con *multi-threading* (`num_workers=4`) y `pin_memory` para acelerar transferencia a GPU.\n",
    "- **AdamW** como optimizador con regularización L2 vía `weight_decay`.\n",
    "- **Cosine Annealing LR** para variar la tasa de aprendizaje de forma suave durante las épocas.\n",
    "- **Validación periódica** con métricas (`val_auprc`, `val_f1`, `val_mae_str`).\n",
    "- **Checkpointing** automático de los modelos (`last.pt` y `best.pt`) para reproducibilidad.\n",
    "- **Early stopping** con paciencia configurable (6 épocas) para evitar sobreentrenamiento.\n",
    "\n",
    "**Justificación**\n",
    "\n",
    "- La construcción de datasets a partir de **CSV explícitos** permite trazabilidad de los datos de entrenamiento/validación.\n",
    "- El uso de **AdamW** mejora la convergencia en visión por computadora frente al Adam estándar, especialmente con regularización adecuada.\n",
    "- El **CosineAnnealingLR** proporciona un esquema de ajuste dinámico del learning rate que favorece estabilidad y evita mínimos locales.\n",
    "- El **checkpointing** asegura la preservación de los mejores pesos incluso si el entrenamiento se interrumpe.\n",
    "- La técnica de **early stopping** ahorra tiempo computacional y evita sobreajuste al detener el entrenamiento cuando el modelo deja de mejorar en validación.\n",
    "- La función devuelve la ruta al mejor modelo (`best.pt`), facilitando su carga directa en fases posteriores de evaluación o inferencia.\n"
   ]
  },
  {
   "cell_type": "code",
   "execution_count": null,
   "metadata": {},
   "outputs": [],
   "source": [
    "def fit_paths(csv_train, csv_val, size=256, in_chans=3, epochs=20, lr=2e-4, bs=32,\n",
    "              backbone=\"tf_efficientnet_b0_ns\", out_dir=\"runs/barnet\"):\n",
    "    os.makedirs(out_dir, exist_ok=True)\n",
    "    tr_ds = BarsDatasetPaths(csv_train, size=size, train=True)\n",
    "    va_ds = BarsDatasetPaths(csv_val,   size=size, train=False)\n",
    "    tr = DataLoader(tr_ds, batch_size=bs, shuffle=True,  num_workers=4, pin_memory=True)\n",
    "    va = DataLoader(va_ds, batch_size=bs, shuffle=False, num_workers=4, pin_memory=True)\n",
    "\n",
    "    model = BarNet(backbone=backbone, in_chans=in_chans).to(device)\n",
    "    opt = AdamW(model.parameters(), lr=lr, weight_decay=1e-4)\n",
    "    sch = CosineAnnealingLR(opt, T_max=epochs)\n",
    "    best = -1; patience=6; bad=0\n",
    "\n",
    "    for ep in range(1, epochs+1):\n",
    "        tr_loss = train_one_epoch(model, tr, opt)\n",
    "        sch.step()\n",
    "        m = validate(model, va)\n",
    "        score = m[\"val_auprc\"]\n",
    "        torch.save({\"model\":model.state_dict(),\"epoch\":ep,\"metrics\":m}, f\"{out_dir}/last.pt\")\n",
    "        if score>best:\n",
    "            best=score; bad=0\n",
    "            torch.save({\"model\":model.state_dict(),\"epoch\":ep,\"metrics\":m}, f\"{out_dir}/best.pt\")\n",
    "        else:\n",
    "            bad += 1\n",
    "        print(f\"[{ep}/{epochs}] loss {tr_loss:.4f} | {m}\")\n",
    "        if bad>=patience:\n",
    "            print(\"Early stop.\"); break\n",
    "    return f\"{out_dir}/best.pt\"\n"
   ]
  },
  {
   "cell_type": "markdown",
   "metadata": {
    "id": "P3e-6hlv2O5v"
   },
   "source": [
    "### Threshold para clasificación binaria"
   ]
  },
  {
   "cell_type": "markdown",
   "metadata": {
    "id": "1wCxd87F2VRv"
   },
   "source": [
    "**Descripción**\n",
    "\n",
    "La función `pick_threshold` evalúa un modelo entrenado (`BarNet`) sobre un conjunto de datos para encontrar el **umbral de probabilidad** que maximiza el **F1-score** en la tarea binaria de detección de barras.  \n",
    "El flujo es el siguiente:\n",
    "1. Ejecuta el modelo en modo evaluación (`eval`) y desactiva el cálculo de gradientes (`@torch.no_grad`).\n",
    "2. Recolecta las probabilidades predichas (`sigmoid(logit)`) y las etiquetas reales.\n",
    "3. Recorre una grilla de posibles umbrales en el rango [0.2, 0.8].\n",
    "4. Calcula el **F1-score** para cada umbral.\n",
    "5. Devuelve el mejor umbral y su correspondiente valor de F1.\n",
    "\n",
    "**Técnicas utilizadas**\n",
    "\n",
    "- **Inferencia sin gradientes** (`torch.no_grad`) para optimizar memoria y velocidad.\n",
    "- **Predicción de probabilidades** mediante la función sigmoide aplicada a logits.\n",
    "- **Evaluación sistemática de umbrales** con búsqueda en rejilla (grid search) en pasos uniformes.\n",
    "- **Métrica F1-score** como criterio de selección para balancear precisión y exhaustividad.\n",
    "- **Concatenación de batches** en arrays NumPy para el cálculo global de métricas.\n",
    "\n",
    "**Justificación**\n",
    "\n",
    "- El umbral por defecto (0.5) puede no ser óptimo en datasets desbalanceados; este método ajusta el punto de decisión al conjunto de validación.\n",
    "- La búsqueda en el rango [0.2–0.8] cubre escenarios donde las predicciones son más conservadoras o más liberales, permitiendo adaptar el modelo a las necesidades específicas.\n",
    "- El **F1-score** se utiliza porque equilibra precisión y recall, lo cual es crítico en problemas donde detectar correctamente las barras astronómicas es más importante que minimizar un tipo específico de error.\n",
    "- Seleccionar un **umbral óptimo validado** mejora la aplicabilidad práctica del modelo y la calidad de las predicciones en producción.\n"
   ]
  },
  {
   "cell_type": "code",
   "execution_count": null,
   "metadata": {},
   "outputs": [],
   "source": [
    "@torch.no_grad()\n",
    "def pick_threshold(model, loader):\n",
    "    model.eval()\n",
    "    probs=[]; gts=[]\n",
    "    for x, yb, _, _ in loader:\n",
    "        x = x.to(device)\n",
    "        logit, _ = model(x)\n",
    "        probs.append(torch.sigmoid(logit).cpu().numpy())\n",
    "        gts.append(yb.numpy())\n",
    "    p = np.concatenate(probs); y = np.concatenate(gts).astype(int)\n",
    "    best_f1, best_t = -1, 0.5\n",
    "    for t in np.linspace(0.2,0.8,25):\n",
    "        f1 = f1_score((p>=t).astype(int), y)\n",
    "        if f1>best_f1: best_f1, best_t = f1, t\n",
    "    return best_t, best_f1\n"
   ]
  },
  {
   "cell_type": "markdown",
   "metadata": {
    "id": "8tzBYVLe2mJ4"
   },
   "source": [
    "### Interpretación de Predicciones"
   ]
  },
  {
   "cell_type": "markdown",
   "metadata": {
    "id": "ROa37Nlr2bg0"
   },
   "source": [
    "**Descripción**\n",
    "\n",
    "La función `gradcam_overlay` genera un **mapa de activación Grad-CAM** superpuesto sobre una imagen astronómica para interpretar qué regiones han influido en la decisión del modelo `BarNet`.  \n",
    "El flujo es el siguiente:\n",
    "1. Pone el modelo en modo evaluación.\n",
    "2. Selecciona la capa objetivo para Grad-CAM:\n",
    "   - Por defecto, la capa final del *backbone*.\n",
    "   - Como alternativa, la última convolución disponible.\n",
    "3. Calcula los mapas de activación Grad-CAM para la clase positiva (“con barra”).\n",
    "4. Normaliza la imagen de entrada a rango [0,1].\n",
    "5. Superpone el mapa de calor sobre la imagen en color para obtener una visualización interpretativa.\n",
    "\n",
    "**Técnicas utilizadas**\n",
    "\n",
    "- **Grad-CAM (Gradient-weighted Class Activation Mapping)** para identificar regiones relevantes de la imagen en la predicción.\n",
    "- **Selección dinámica de la capa objetivo**: global pooling o última convolución.\n",
    "- **Normalización de la entrada** a rango [0,1] para visualización adecuada.\n",
    "- **Superposición de mapas de calor** (`show_cam_on_image`) para resaltar zonas de mayor activación.\n",
    "- **Target específico de clase** mediante `BinaryClassifierOutputTarget`.\n",
    "\n",
    "**Justificación**\n",
    "\n",
    "- Grad-CAM proporciona **interpretabilidad** al modelo, mostrando en qué regiones de la galaxia se centra para detectar barras.\n",
    "- La opción de elegir la **última capa convolucional** garantiza robustez, incluso si el *backbone* cambia.\n",
    "- La **normalización y superposición** permiten producir visualizaciones claras y comparables entre distintas imágenes.\n",
    "- El enfoque orientado a la clase positiva (“con barra”) es consistente con el objetivo científico: localizar evidencias de estructuras de barra en galaxias.\n",
    "- Este tipo de visualización es esencial para validar que el modelo **aprende patrones astronómicamente relevantes** y no artefactos de los datos.\n"
   ]
  },
  {
   "cell_type": "code",
   "execution_count": null,
   "metadata": {},
   "outputs": [],
   "source": [
    "\n",
    "\n",
    "def gradcam_overlay(model, x_tensor, target_layer=None):\n",
    "    model.eval()\n",
    "    if target_layer is None:\n",
    "        # capa final del backbone\n",
    "        target_layer = [model.backbone.get_global_pool().flatten]\n",
    "        # fallback: usa la última conv si el backbone lo expone\n",
    "        target_layer = [list(model.backbone.modules())[-2]]\n",
    "    cam = GradCAM(model=model, target_layers=target_layer, use_cuda=(device.type==\"cuda\"))\n",
    "    targets = [BinaryClassifierOutputTarget(1)]  # clase \"con barra\"\n",
    "    grayscale_cam = cam(input_tensor=x_tensor, targets=targets)[0]\n",
    "    img = x_tensor[0].permute(1,2,0).cpu().numpy()\n",
    "    img = (img - img.min())/(img.max()-img.min()+1e-8)\n",
    "    vis = show_cam_on_image(img, grayscale_cam, use_rgb=True)\n",
    "    return vis  # array RGB\n"
   ]
  },
  {
   "cell_type": "markdown",
   "metadata": {
    "id": "y1lrG5Ex21tX"
   },
   "source": [
    "## Ejecución de Entrenamiento"
   ]
  },
  {
   "cell_type": "markdown",
   "metadata": {
    "id": "ybDOj5nz24dE"
   },
   "source": [
    "- Tamaño de las imágenes (`256x256`).\n",
    "- Número de canales de entrada (`3`).\n",
    "- Número de épocas (`30`).\n",
    "- Tasa de aprendizaje (`2e-4`).\n",
    "- Batch size (`32`).\n",
    "- Backbone (`tf_efficientnet_b0_ns`).\n",
    "- Directorio de salida para checkpoints y logs.  "
   ]
  },
  {
   "cell_type": "code",
   "execution_count": null,
   "metadata": {},
   "outputs": [],
   "source": [
    "DATASETS_DIR = \"/content/drive/MyDrive/Proyecto_Integrador/Deteccion/datasets\"\n",
    "ckpt = fit_paths(\n",
    "    csv_train=f\"{DATASETS_DIR}/train_grz.csv\",\n",
    "    csv_val  =f\"{DATASETS_DIR}/val_grz.csv\",\n",
    "    size=256,\n",
    "    in_chans=3,\n",
    "    epochs=30,\n",
    "    lr=2e-4,\n",
    "    bs=32,\n",
    "    backbone=\"tf_efficientnet_b0_ns\",\n",
    "    out_dir=\"/content/drive/MyDrive/Proyecto_Integrador/Deteccion/runs/barnet\"\n",
    ")\n"
   ]
  },
  {
   "cell_type": "markdown",
   "metadata": {
    "id": "T9zSz5GQ3Wlu"
   },
   "source": [
    "## Evaluación final del modelo BarNet\n"
   ]
  },
  {
   "cell_type": "markdown",
   "metadata": {
    "id": "IBPYUt0r3cIQ"
   },
   "source": [
    "Conjunto de test con métricas de clasificación, regresión y análisis de errores"
   ]
  },
  {
   "cell_type": "markdown",
   "metadata": {
    "id": "0XQ6LiVR3hGL"
   },
   "source": [
    "**Descripción**\n",
    "\n",
    "Este bloque de código realiza la **evaluación completa del modelo BarNet** usando el conjunto de test.  \n",
    "El flujo incluye:\n",
    "1. **Carga del mejor modelo** (`best.pt`) con `weights_only=False` para restaurar pesos y estado del entrenamiento.\n",
    "2. **Construcción del DataLoader de test** a partir de `test_grz.csv`.\n",
    "3. **Predicción en inferencia** (`torch.no_grad`) para obtener:\n",
    "   - Probabilidades (`probs`) y etiquetas predichas (`y_pred`).\n",
    "   - Valores continuos de fuerza predicha (`strengths_pred`) y reales (`strengths_true`).\n",
    "   - Identificadores de imagen (`image_ids`).\n",
    "4. **Cálculo de métricas finales**:\n",
    "   - Clasificación: Accuracy, Precisión, Recall, F1-score, AUPRC, AUROC.\n",
    "   - Regresión: Error absoluto medio (MAE) en la fuerza de la barra.\n",
    "   - Reporte de clasificación y matriz de confusión.\n",
    "5. **Guardado de resultados detallados** en un CSV (`test_results.csv`) con etiquetas reales, predicciones, probabilidades y errores.\n",
    "6. **Análisis de errores**: conteo de falsos positivos, falsos negativos y proporción total de errores.\n",
    "\n",
    "**Técnicas utilizadas**\n",
    "\n",
    "- **Carga de checkpoints** con `torch.load` y `load_state_dict` para restaurar el modelo entrenado.\n",
    "- **Inferencia eficiente** con `torch.no_grad` para desactivar gradientes.\n",
    "- **Evaluación de clasificación binaria** con métricas estándar: clasificación report, matriz de confusión, accuracy, precision, recall, F1, AUPRC y AUROC.\n",
    "- **Evaluación de regresión** mediante MAE sobre la predicción de fuerza.\n",
    "- **Análisis post-evaluación** separando errores en falsos positivos y falsos negativos.\n",
    "- **Exportación de resultados** a CSV para trazabilidad y análisis posterior.\n",
    "\n",
    "**Justificación**\n",
    "\n",
    "- La **carga segura del modelo** garantiza reproducibilidad de los resultados sin necesidad de reentrenar.\n",
    "- La **evaluación en test** proporciona una medida objetiva del desempeño final, independiente de los datos usados en entrenamiento y validación.\n",
    "- El uso conjunto de **métricas de clasificación y regresión** refleja el carácter multitarea del modelo: detección binaria y cuantificación de fuerza.\n",
    "- La **matriz de confusión** permite entender los tipos de errores (FP, FN), crucial para valorar la utilidad científica del modelo.\n",
    "- Guardar las predicciones en un **CSV detallado** facilita auditoría, análisis de casos problemáticos y futuras visualizaciones.\n",
    "- El **análisis de errores** da transparencia al desempeño del modelo, identificando en qué casos falla más y guiando mejoras futuras.\n"
   ]
  },
  {
   "cell_type": "code",
   "execution_count": null,
   "metadata": {},
   "outputs": [],
   "source": [
    "# 1. Cargar modelo con weights_only=False\n",
    "DATASETS_DIR = \"/content/drive/MyDrive/Proyecto_Integrador/Deteccion/datasets\"\n",
    "BEST = \"/content/drive/MyDrive/Proyecto_Integrador/Deteccion/runs/barnet/best.pt\"\n",
    "\n",
    "# Cargar checkpoint\n",
    "ckpt = torch.load(BEST, map_location=device, weights_only=False)\n",
    "model.load_state_dict(ckpt[\"model\"])\n",
    "model.eval()\n",
    "\n",
    "print(\"Modelo cargado exitosamente\")\n",
    "\n",
    "# 2. Preparar test loader\n",
    "TEST_CSV = f\"{DATASETS_DIR}/test_grz.csv\"\n",
    "test_ds = BarsDatasetPaths(TEST_CSV, size=256, train=False)\n",
    "test_dl = DataLoader(test_ds, batch_size=64, num_workers=2, pin_memory=True)\n",
    "\n",
    "# 3. Predecir\n",
    "probs = []\n",
    "y_true = []\n",
    "strengths_pred = []\n",
    "strengths_true = []\n",
    "image_ids = []\n",
    "\n",
    "with torch.no_grad():\n",
    "    for x, yb, ys, img_id in test_dl:\n",
    "        x = x.to(device)\n",
    "        logits, sp = model(x)\n",
    "\n",
    "        probs.append(torch.sigmoid(logits).cpu().numpy())\n",
    "        y_true.append(yb.numpy())\n",
    "        strengths_pred.append(torch.sigmoid(sp).cpu().numpy())\n",
    "        strengths_true.append(ys.numpy())\n",
    "        image_ids.extend(img_id)\n",
    "\n",
    "probs = np.concatenate(probs)\n",
    "y_true = np.concatenate(y_true).astype(int)\n",
    "y_pred = (probs >= 0.5).astype(int)\n",
    "strengths_pred = np.concatenate(strengths_pred)\n",
    "strengths_true = np.concatenate(strengths_true)\n",
    "\n",
    "# 4. METRICAS FINALES\n",
    "print(\"=\"*60)\n",
    "print(\"           RESULTADOS EN TEST SET\")\n",
    "print(\"=\"*60)\n",
    "\n",
    "# Clasificacion\n",
    "print(\"\\nReporte de Clasificacion:\")\n",
    "print(classification_report(y_true, y_pred,\n",
    "                          target_names=[\"Sin barra (0)\", \"Con barra (1)\"],\n",
    "                          digits=4))\n",
    "\n",
    "# Matriz de confusion\n",
    "print(\"\\nMatriz de Confusion:\")\n",
    "cm = confusion_matrix(y_true, y_pred)\n",
    "print(f\"                Pred: Sin barra | Con barra\")\n",
    "print(f\"Real: Sin barra       {cm[0,0]:4d}        {cm[0,1]:4d}\")\n",
    "print(f\"      Con barra       {cm[1,0]:4d}        {cm[1,1]:4d}\")\n",
    "\n",
    "tn, fp, fn, tp = cm.ravel()\n",
    "accuracy = (tp + tn) / (tp + tn + fp + fn)\n",
    "precision = tp / (tp + fp) if (tp + fp) > 0 else 0\n",
    "recall = tp / (tp + fn) if (tp + fn) > 0 else 0\n",
    "f1 = 2 * precision * recall / (precision + recall) if (precision + recall) > 0 else 0\n",
    "\n",
    "print(f\"\\nMetricas Agregadas:\")\n",
    "print(f\"  Accuracy:  {accuracy:.4f}\")\n",
    "print(f\"  Precision: {precision:.4f}\")\n",
    "print(f\"  Recall:    {recall:.4f}\")\n",
    "print(f\"  F1-Score:  {f1:.4f}\")\n",
    "print(f\"  AUPRC:     {average_precision_score(y_true, probs):.4f}\")\n",
    "print(f\"  AUROC:     {roc_auc_score(y_true, probs):.4f}\")\n",
    "\n",
    "# Error en fuerza\n",
    "mae_strength = np.mean(np.abs(strengths_pred - strengths_true))\n",
    "print(f\"  MAE (fuerza): {mae_strength:.4f}\")\n",
    "\n",
    "# 5. Guardar predicciones\n",
    "results = pd.DataFrame({\n",
    "    'image_id': image_ids,\n",
    "    'true_label': y_true,\n",
    "    'pred_prob': probs,\n",
    "    'pred_label': y_pred,\n",
    "    'true_strength': strengths_true,\n",
    "    'pred_strength': strengths_pred,\n",
    "    'correct': y_true == y_pred,\n",
    "    'error': np.abs(y_true - y_pred)\n",
    "})\n",
    "\n",
    "OUT_CSV = f\"{DATASETS_DIR}/test_results.csv\"\n",
    "results.to_csv(OUT_CSV, index=False)\n",
    "print(f\"\\nGuardado: {OUT_CSV}\")\n",
    "\n",
    "# 6. Analisis de errores\n",
    "errors = results[~results['correct']]\n",
    "print(f\"\\nErrores: {len(errors)}/{len(results)} ({100*len(errors)/len(results):.2f}%)\")\n",
    "\n",
    "fp_errors = errors[errors['true_label'] == 0]\n",
    "print(f\"  Falsos Positivos: {len(fp_errors)}\")\n",
    "\n",
    "fn_errors = errors[errors['true_label'] == 1]\n",
    "print(f\"  Falsos Negativos: {len(fn_errors)}\")\n",
    "\n",
    "print(\"\\nEvaluacion completa.\")"
   ]
  }
 ],
 "metadata": {
  "language_info": {
   "name": "python"
  }
 },
 "nbformat": 4,
 "nbformat_minor": 0
}
